{
  "cells": [
    {
      "cell_type": "code",
      "execution_count": 55,
      "metadata": {
        "id": "HjH5ih1N0OrL"
      },
      "outputs": [],
      "source": [
        "#Import the appropriate libraries\n",
        "import re\n",
        "import pandas as pd\n",
        "import numpy as np\n",
        "import string\n",
        "import nltk\n",
        "import warnings\n",
        "import matplotlib.pyplot as plot\n",
        "import seaborn"
      ]
    },
    {
      "cell_type": "code",
      "source": [
        "# from google.colab import drive\n",
        "# drive.mount('/content/drive')"
      ],
      "metadata": {
        "id": "ujDZuJSt0THo"
      },
      "execution_count": 56,
      "outputs": []
    },
    {
      "cell_type": "code",
      "execution_count": 57,
      "metadata": {
        "id": "y-D4BEZ90OrO"
      },
      "outputs": [],
      "source": [
        "#Initial Setup & import dataset\n",
        "warnings.filterwarnings(\"ignore\", category=DeprecationWarning)\n",
        "%matplotlib inline\n",
        "\n",
        "test = pd.read_csv('test_tweets_anuFYb8.csv')\n",
        "train = pd.read_csv('train_E6oV3lV.csv')\n",
        "\n",
        "# Concatenate train and test DataFrames\n",
        "combined = pd.concat([train, test], ignore_index=True)"
      ]
    },
    {
      "cell_type": "code",
      "execution_count": 58,
      "metadata": {
        "id": "KxlUr1bI0OrP"
      },
      "outputs": [],
      "source": [
        "#Preprocess Tweets: Remove items from a tweet that do not add significance to the sentiment.\n",
        "#1. Remove @usernames\n",
        "#2. Remove special characters, punctuation, and numbers\n",
        "#3. Remove words less than 4 characters in length"
      ]
    },
    {
      "cell_type": "code",
      "execution_count": 59,
      "metadata": {
        "id": "rBGbmOyG0OrQ"
      },
      "outputs": [],
      "source": [
        "#Helper function to remove sub-strings from an input string\n",
        "def removeSubString(input, subString):\n",
        "    matchesList = re.findall(subString, input)\n",
        "\n",
        "    for match in matchesList:\n",
        "        input = re.sub(match, '', input)\n",
        "\n",
        "    return input"
      ]
    },
    {
      "cell_type": "code",
      "execution_count": 60,
      "metadata": {
        "id": "jB0VkWqH0OrQ"
      },
      "outputs": [],
      "source": [
        "#1. Remove @usernames\n",
        "#\"@[\\w]*\" is any word starting with an @ symbol. This line of code will remove all usernames from tweets, as it is\n",
        "#not important in determing the sentiment of a tweet.\n",
        "combined['processed_tweet'] = np.vectorize(removeSubString)(combined['tweet'], \"@[\\w]*\")"
      ]
    },
    {
      "cell_type": "code",
      "execution_count": 61,
      "metadata": {
        "colab": {
          "base_uri": "https://localhost:8080/"
        },
        "id": "o-W2JwWP0OrQ",
        "outputId": "7301cd8e-4346-4ba0-cb33-7c31d8098e1b"
      },
      "outputs": [
        {
          "output_type": "stream",
          "name": "stderr",
          "text": [
            "<ipython-input-61-cdc6b517df80>:2: FutureWarning: The default value of regex will change from True to False in a future version.\n",
            "  combined['processed_tweet'] = combined['processed_tweet'].str.replace(\"[^a-zA-Z#]\", \" \")\n"
          ]
        }
      ],
      "source": [
        "#2. Remove numbers, punctuation, and special characters from the tweets.\n",
        "combined['processed_tweet'] = combined['processed_tweet'].str.replace(\"[^a-zA-Z#]\", \" \")"
      ]
    },
    {
      "cell_type": "code",
      "execution_count": 62,
      "metadata": {
        "id": "go8mHXdD0OrR"
      },
      "outputs": [],
      "source": [
        "#3. Remove words with less than 4 letters as they do not add significance to the tweet.\n",
        "combined['processed_tweet'] = combined['processed_tweet'].apply(lambda x: ' '.join([w for w in x.split() if len(w)>3]))"
      ]
    },
    {
      "cell_type": "code",
      "execution_count": 63,
      "metadata": {
        "colab": {
          "base_uri": "https://localhost:8080/",
          "height": 206
        },
        "id": "mYJudMtb0OrR",
        "outputId": "87c9da34-e94d-4346-a6e0-1e0b5c11ee53"
      },
      "outputs": [
        {
          "output_type": "execute_result",
          "data": {
            "text/plain": [
              "   id  label                                              tweet  \\\n",
              "0   1    0.0   @user when a father is dysfunctional and is s...   \n",
              "1   2    0.0  @user @user thanks for #lyft credit i can't us...   \n",
              "2   3    0.0                                bihday your majesty   \n",
              "3   4    0.0  #model   i love u take with u all the time in ...   \n",
              "4   5    0.0             factsguide: society now    #motivation   \n",
              "\n",
              "                                     processed_tweet  \n",
              "0  when father dysfunctional selfish drags kids i...  \n",
              "1  thanks #lyft credit cause they offer wheelchai...  \n",
              "2                                bihday your majesty  \n",
              "3                         #model love take with time  \n",
              "4                     factsguide society #motivation  "
            ],
            "text/html": [
              "\n",
              "  <div id=\"df-3135a16e-4aaa-4f25-80b7-31a909ca5ad1\" class=\"colab-df-container\">\n",
              "    <div>\n",
              "<style scoped>\n",
              "    .dataframe tbody tr th:only-of-type {\n",
              "        vertical-align: middle;\n",
              "    }\n",
              "\n",
              "    .dataframe tbody tr th {\n",
              "        vertical-align: top;\n",
              "    }\n",
              "\n",
              "    .dataframe thead th {\n",
              "        text-align: right;\n",
              "    }\n",
              "</style>\n",
              "<table border=\"1\" class=\"dataframe\">\n",
              "  <thead>\n",
              "    <tr style=\"text-align: right;\">\n",
              "      <th></th>\n",
              "      <th>id</th>\n",
              "      <th>label</th>\n",
              "      <th>tweet</th>\n",
              "      <th>processed_tweet</th>\n",
              "    </tr>\n",
              "  </thead>\n",
              "  <tbody>\n",
              "    <tr>\n",
              "      <th>0</th>\n",
              "      <td>1</td>\n",
              "      <td>0.0</td>\n",
              "      <td>@user when a father is dysfunctional and is s...</td>\n",
              "      <td>when father dysfunctional selfish drags kids i...</td>\n",
              "    </tr>\n",
              "    <tr>\n",
              "      <th>1</th>\n",
              "      <td>2</td>\n",
              "      <td>0.0</td>\n",
              "      <td>@user @user thanks for #lyft credit i can't us...</td>\n",
              "      <td>thanks #lyft credit cause they offer wheelchai...</td>\n",
              "    </tr>\n",
              "    <tr>\n",
              "      <th>2</th>\n",
              "      <td>3</td>\n",
              "      <td>0.0</td>\n",
              "      <td>bihday your majesty</td>\n",
              "      <td>bihday your majesty</td>\n",
              "    </tr>\n",
              "    <tr>\n",
              "      <th>3</th>\n",
              "      <td>4</td>\n",
              "      <td>0.0</td>\n",
              "      <td>#model   i love u take with u all the time in ...</td>\n",
              "      <td>#model love take with time</td>\n",
              "    </tr>\n",
              "    <tr>\n",
              "      <th>4</th>\n",
              "      <td>5</td>\n",
              "      <td>0.0</td>\n",
              "      <td>factsguide: society now    #motivation</td>\n",
              "      <td>factsguide society #motivation</td>\n",
              "    </tr>\n",
              "  </tbody>\n",
              "</table>\n",
              "</div>\n",
              "    <div class=\"colab-df-buttons\">\n",
              "\n",
              "  <div class=\"colab-df-container\">\n",
              "    <button class=\"colab-df-convert\" onclick=\"convertToInteractive('df-3135a16e-4aaa-4f25-80b7-31a909ca5ad1')\"\n",
              "            title=\"Convert this dataframe to an interactive table.\"\n",
              "            style=\"display:none;\">\n",
              "\n",
              "  <svg xmlns=\"http://www.w3.org/2000/svg\" height=\"24px\" viewBox=\"0 -960 960 960\">\n",
              "    <path d=\"M120-120v-720h720v720H120Zm60-500h600v-160H180v160Zm220 220h160v-160H400v160Zm0 220h160v-160H400v160ZM180-400h160v-160H180v160Zm440 0h160v-160H620v160ZM180-180h160v-160H180v160Zm440 0h160v-160H620v160Z\"/>\n",
              "  </svg>\n",
              "    </button>\n",
              "\n",
              "  <style>\n",
              "    .colab-df-container {\n",
              "      display:flex;\n",
              "      gap: 12px;\n",
              "    }\n",
              "\n",
              "    .colab-df-convert {\n",
              "      background-color: #E8F0FE;\n",
              "      border: none;\n",
              "      border-radius: 50%;\n",
              "      cursor: pointer;\n",
              "      display: none;\n",
              "      fill: #1967D2;\n",
              "      height: 32px;\n",
              "      padding: 0 0 0 0;\n",
              "      width: 32px;\n",
              "    }\n",
              "\n",
              "    .colab-df-convert:hover {\n",
              "      background-color: #E2EBFA;\n",
              "      box-shadow: 0px 1px 2px rgba(60, 64, 67, 0.3), 0px 1px 3px 1px rgba(60, 64, 67, 0.15);\n",
              "      fill: #174EA6;\n",
              "    }\n",
              "\n",
              "    .colab-df-buttons div {\n",
              "      margin-bottom: 4px;\n",
              "    }\n",
              "\n",
              "    [theme=dark] .colab-df-convert {\n",
              "      background-color: #3B4455;\n",
              "      fill: #D2E3FC;\n",
              "    }\n",
              "\n",
              "    [theme=dark] .colab-df-convert:hover {\n",
              "      background-color: #434B5C;\n",
              "      box-shadow: 0px 1px 3px 1px rgba(0, 0, 0, 0.15);\n",
              "      filter: drop-shadow(0px 1px 2px rgba(0, 0, 0, 0.3));\n",
              "      fill: #FFFFFF;\n",
              "    }\n",
              "  </style>\n",
              "\n",
              "    <script>\n",
              "      const buttonEl =\n",
              "        document.querySelector('#df-3135a16e-4aaa-4f25-80b7-31a909ca5ad1 button.colab-df-convert');\n",
              "      buttonEl.style.display =\n",
              "        google.colab.kernel.accessAllowed ? 'block' : 'none';\n",
              "\n",
              "      async function convertToInteractive(key) {\n",
              "        const element = document.querySelector('#df-3135a16e-4aaa-4f25-80b7-31a909ca5ad1');\n",
              "        const dataTable =\n",
              "          await google.colab.kernel.invokeFunction('convertToInteractive',\n",
              "                                                    [key], {});\n",
              "        if (!dataTable) return;\n",
              "\n",
              "        const docLinkHtml = 'Like what you see? Visit the ' +\n",
              "          '<a target=\"_blank\" href=https://colab.research.google.com/notebooks/data_table.ipynb>data table notebook</a>'\n",
              "          + ' to learn more about interactive tables.';\n",
              "        element.innerHTML = '';\n",
              "        dataTable['output_type'] = 'display_data';\n",
              "        await google.colab.output.renderOutput(dataTable, element);\n",
              "        const docLink = document.createElement('div');\n",
              "        docLink.innerHTML = docLinkHtml;\n",
              "        element.appendChild(docLink);\n",
              "      }\n",
              "    </script>\n",
              "  </div>\n",
              "\n",
              "\n",
              "<div id=\"df-0a424fdf-573d-43b1-a803-4dfcae939535\">\n",
              "  <button class=\"colab-df-quickchart\" onclick=\"quickchart('df-0a424fdf-573d-43b1-a803-4dfcae939535')\"\n",
              "            title=\"Suggest charts.\"\n",
              "            style=\"display:none;\">\n",
              "\n",
              "<svg xmlns=\"http://www.w3.org/2000/svg\" height=\"24px\"viewBox=\"0 0 24 24\"\n",
              "     width=\"24px\">\n",
              "    <g>\n",
              "        <path d=\"M19 3H5c-1.1 0-2 .9-2 2v14c0 1.1.9 2 2 2h14c1.1 0 2-.9 2-2V5c0-1.1-.9-2-2-2zM9 17H7v-7h2v7zm4 0h-2V7h2v10zm4 0h-2v-4h2v4z\"/>\n",
              "    </g>\n",
              "</svg>\n",
              "  </button>\n",
              "\n",
              "<style>\n",
              "  .colab-df-quickchart {\n",
              "      --bg-color: #E8F0FE;\n",
              "      --fill-color: #1967D2;\n",
              "      --hover-bg-color: #E2EBFA;\n",
              "      --hover-fill-color: #174EA6;\n",
              "      --disabled-fill-color: #AAA;\n",
              "      --disabled-bg-color: #DDD;\n",
              "  }\n",
              "\n",
              "  [theme=dark] .colab-df-quickchart {\n",
              "      --bg-color: #3B4455;\n",
              "      --fill-color: #D2E3FC;\n",
              "      --hover-bg-color: #434B5C;\n",
              "      --hover-fill-color: #FFFFFF;\n",
              "      --disabled-bg-color: #3B4455;\n",
              "      --disabled-fill-color: #666;\n",
              "  }\n",
              "\n",
              "  .colab-df-quickchart {\n",
              "    background-color: var(--bg-color);\n",
              "    border: none;\n",
              "    border-radius: 50%;\n",
              "    cursor: pointer;\n",
              "    display: none;\n",
              "    fill: var(--fill-color);\n",
              "    height: 32px;\n",
              "    padding: 0;\n",
              "    width: 32px;\n",
              "  }\n",
              "\n",
              "  .colab-df-quickchart:hover {\n",
              "    background-color: var(--hover-bg-color);\n",
              "    box-shadow: 0 1px 2px rgba(60, 64, 67, 0.3), 0 1px 3px 1px rgba(60, 64, 67, 0.15);\n",
              "    fill: var(--button-hover-fill-color);\n",
              "  }\n",
              "\n",
              "  .colab-df-quickchart-complete:disabled,\n",
              "  .colab-df-quickchart-complete:disabled:hover {\n",
              "    background-color: var(--disabled-bg-color);\n",
              "    fill: var(--disabled-fill-color);\n",
              "    box-shadow: none;\n",
              "  }\n",
              "\n",
              "  .colab-df-spinner {\n",
              "    border: 2px solid var(--fill-color);\n",
              "    border-color: transparent;\n",
              "    border-bottom-color: var(--fill-color);\n",
              "    animation:\n",
              "      spin 1s steps(1) infinite;\n",
              "  }\n",
              "\n",
              "  @keyframes spin {\n",
              "    0% {\n",
              "      border-color: transparent;\n",
              "      border-bottom-color: var(--fill-color);\n",
              "      border-left-color: var(--fill-color);\n",
              "    }\n",
              "    20% {\n",
              "      border-color: transparent;\n",
              "      border-left-color: var(--fill-color);\n",
              "      border-top-color: var(--fill-color);\n",
              "    }\n",
              "    30% {\n",
              "      border-color: transparent;\n",
              "      border-left-color: var(--fill-color);\n",
              "      border-top-color: var(--fill-color);\n",
              "      border-right-color: var(--fill-color);\n",
              "    }\n",
              "    40% {\n",
              "      border-color: transparent;\n",
              "      border-right-color: var(--fill-color);\n",
              "      border-top-color: var(--fill-color);\n",
              "    }\n",
              "    60% {\n",
              "      border-color: transparent;\n",
              "      border-right-color: var(--fill-color);\n",
              "    }\n",
              "    80% {\n",
              "      border-color: transparent;\n",
              "      border-right-color: var(--fill-color);\n",
              "      border-bottom-color: var(--fill-color);\n",
              "    }\n",
              "    90% {\n",
              "      border-color: transparent;\n",
              "      border-bottom-color: var(--fill-color);\n",
              "    }\n",
              "  }\n",
              "</style>\n",
              "\n",
              "  <script>\n",
              "    async function quickchart(key) {\n",
              "      const quickchartButtonEl =\n",
              "        document.querySelector('#' + key + ' button');\n",
              "      quickchartButtonEl.disabled = true;  // To prevent multiple clicks.\n",
              "      quickchartButtonEl.classList.add('colab-df-spinner');\n",
              "      try {\n",
              "        const charts = await google.colab.kernel.invokeFunction(\n",
              "            'suggestCharts', [key], {});\n",
              "      } catch (error) {\n",
              "        console.error('Error during call to suggestCharts:', error);\n",
              "      }\n",
              "      quickchartButtonEl.classList.remove('colab-df-spinner');\n",
              "      quickchartButtonEl.classList.add('colab-df-quickchart-complete');\n",
              "    }\n",
              "    (() => {\n",
              "      let quickchartButtonEl =\n",
              "        document.querySelector('#df-0a424fdf-573d-43b1-a803-4dfcae939535 button');\n",
              "      quickchartButtonEl.style.display =\n",
              "        google.colab.kernel.accessAllowed ? 'block' : 'none';\n",
              "    })();\n",
              "  </script>\n",
              "</div>\n",
              "    </div>\n",
              "  </div>\n"
            ]
          },
          "metadata": {},
          "execution_count": 63
        }
      ],
      "source": [
        "#Processed tweets:\n",
        "combined.head()"
      ]
    },
    {
      "cell_type": "code",
      "execution_count": 64,
      "metadata": {
        "id": "8C1k6v8_0OrS"
      },
      "outputs": [],
      "source": [
        "#Tokenize Tweets: Seperate the Strings (tweets) into individual words\n",
        "tokenized_tweet = combined['processed_tweet'].apply(lambda x: x.split())"
      ]
    },
    {
      "cell_type": "code",
      "execution_count": 65,
      "metadata": {
        "colab": {
          "base_uri": "https://localhost:8080/"
        },
        "id": "HTTmZAMP0OrS",
        "outputId": "0cddffa0-21c3-41f5-a644-70dedcaceaf7"
      },
      "outputs": [
        {
          "output_type": "execute_result",
          "data": {
            "text/plain": [
              "0    [when, father, dysfunct, selfish, drag, kid, i...\n",
              "1    [thank, #lyft, credit, caus, they, offer, whee...\n",
              "2                              [bihday, your, majesti]\n",
              "3                     [#model, love, take, with, time]\n",
              "4                         [factsguid, societi, #motiv]\n",
              "Name: processed_tweet, dtype: object"
            ]
          },
          "metadata": {},
          "execution_count": 65
        }
      ],
      "source": [
        "#Stemming: Removing suffixes from words\n",
        "from nltk.stem.porter import *\n",
        "stemmer = PorterStemmer()\n",
        "tokenized_tweet = tokenized_tweet.apply(lambda x: [stemmer.stem(i) for i in x])\n",
        "tokenized_tweet.head()"
      ]
    },
    {
      "cell_type": "code",
      "execution_count": 66,
      "metadata": {
        "id": "TVpzx4hL0OrS"
      },
      "outputs": [],
      "source": [
        "\n",
        "for i in range(len(tokenized_tweet)):\n",
        "    tokenized_tweet[i] = ' '.join(tokenized_tweet[i])\n",
        "\n",
        "combined['processed_tweet'] = tokenized_tweet"
      ]
    },
    {
      "cell_type": "code",
      "execution_count": 67,
      "metadata": {
        "id": "RjsxvQBi0OrT"
      },
      "outputs": [],
      "source": [
        "#Gather all words\n",
        "all_words = ' '.join([text for text in combined['processed_tweet']])\n",
        "\n",
        "#Gather all the words in the negative tweets\n",
        "negative_words = ' '.join([text for text in combined['processed_tweet'][combined['label'] == 1]])\n",
        "\n",
        "#Gather all the words in the regular tweets\n",
        "regular_words = ' '.join([text for text in combined['processed_tweet'][combined['label'] == 0]])"
      ]
    },
    {
      "cell_type": "code",
      "execution_count": 68,
      "metadata": {
        "colab": {
          "base_uri": "https://localhost:8080/",
          "height": 35
        },
        "id": "B8jV-TXI0OrT",
        "outputId": "344ae832-de08-4eab-b376-4692cfd533ae"
      },
      "outputs": [
        {
          "output_type": "execute_result",
          "data": {
            "text/plain": [
              "'#'"
            ],
            "application/vnd.google.colaboratory.intrinsic+json": {
              "type": "string"
            }
          },
          "metadata": {},
          "execution_count": 68
        }
      ],
      "source": [
        "negative_words[0]"
      ]
    },
    {
      "cell_type": "code",
      "execution_count": 69,
      "metadata": {
        "id": "z-lEiVPE0OrT"
      },
      "outputs": [],
      "source": [
        "#Helper function to get hashtags from a tweet by taking words after a \"#\" symbol.\n",
        "def getHashtags(tweets):\n",
        "    hashtags = []\n",
        "    for i in tweets:\n",
        "        hashtag = re.findall(r\"#(\\w+)\",i)\n",
        "        hashtags.append(hashtag)\n",
        "    return hashtags"
      ]
    },
    {
      "cell_type": "code",
      "execution_count": 70,
      "metadata": {
        "id": "etYQGd--0OrT"
      },
      "outputs": [],
      "source": [
        "#Create two lists, one for hashtags in the negative tweets and one for the positive tweets.\n",
        "Negative_Hashtags = getHashtags(combined['processed_tweet'][combined['label'] == 1])\n",
        "Negative_Hashtags = sum(Negative_Hashtags, [])\n",
        "\n",
        "Regular_Hashtags = getHashtags(combined['processed_tweet'][combined['label'] == 0])\n",
        "Regular_Hashtags = sum(Regular_Hashtags, [])"
      ]
    },
    {
      "cell_type": "code",
      "execution_count": 71,
      "metadata": {
        "colab": {
          "base_uri": "https://localhost:8080/",
          "height": 325
        },
        "id": "DJ3Km8BI0OrU",
        "outputId": "b39e9cd6-d511-480a-e6f4-6604e87c7b73"
      },
      "outputs": [
        {
          "output_type": "display_data",
          "data": {
            "text/plain": [
              "<Figure size 1600x500 with 1 Axes>"
            ],
            "image/png": "[encoded data removed]"
          },
          "metadata": {}
        }
      ],
      "source": [
        "#A figure to display the hashtags sorted by usage.\n",
        "a = nltk.FreqDist(Regular_Hashtags)\n",
        "d = pd.DataFrame({'Hashtag': list(a.keys()),\n",
        "                  'Count': list(a.values())})\n",
        "# selecting top 10 most frequent hashtags\n",
        "d = d.nlargest(columns=\"Count\", n = 10)\n",
        "plot.figure(figsize=(16,5))\n",
        "ax = seaborn.barplot(data=d, x= \"Hashtag\", y = \"Count\")\n",
        "ax.set(ylabel = 'Count')\n",
        "plot.show()"
      ]
    },
    {
      "cell_type": "code",
      "execution_count": 92,
      "metadata": {
        "id": "iItY8cIa0OrU"
      },
      "outputs": [],
      "source": [
        "#Bag-of-words technique is used to meaningfully convey the text numerically.\n",
        "from sklearn.feature_extraction.text import CountVectorizer\n",
        "bow_vectorizer = CountVectorizer(max_df=0.90, min_df=2, max_features=1000, stop_words='english')\n",
        "bow = bow_vectorizer.fit_transform(combined['processed_tweet'])\n",
        "\n",
        "import joblib\n",
        "\n",
        "joblib.dump(bow_vectorizer, 'countt_vectorizer.pkl')\n",
        "# Load the fitted CountVectorizer\n",
        "bow_vectorizer = joblib.load('countt_vectorizer.pkl')\n"
      ]
    },
    {
      "cell_type": "code",
      "source": [
        "# from sklearn.linear_model import LogisticRegression\n",
        "# from sklearn.model_selection import train_test_split\n",
        "# from sklearn.metrics import f1_score\n",
        "# import numpy as np\n",
        "# import joblib\n",
        "\n",
        "# train_bow = bow[:31962,:]\n",
        "# test_biw = bow[31962:,:]\n",
        "# xtrain_bow, xvalid_bow, ytrain, yvalid = train_test_split(train_bow, train['label'], random_state=42, test_size=0.3)\n",
        "\n",
        "# lreg = LogisticRegression()\n",
        "# lreg.fit(xtrain_bow, ytrain)  # training the model\n",
        "# joblib.dump(lreg, 'trained_model.pkl')\n",
        "\n",
        "# # Predict on the validation set\n",
        "# prediction = lreg.predict_proba(xvalid_bow)\n",
        "\n",
        "# # Modify the threshold to classify as neutral\n",
        "# threshold_positive >= 0.3   # Adjust this threshold as needed\n",
        "# threshold_negative < 0.3  # Adjust this threshold as needed\n",
        "# threshold_negative == 0\n",
        "\n",
        "# # Classify as positive, negative, or neutral\n",
        "# prediction_positive = prediction[:, 1] >= threshold_positive\n",
        "# prediction_negative = prediction[:, 1] <= threshold_negative\n",
        "# prediction_neutral = prediction[:, 1] <= threshold_negative\n",
        "\n",
        "# # Convert to integers\n",
        "# prediction_positive = prediction_positive.astype(int)\n",
        "# prediction_negative = prediction_negative.astype(int)\n",
        "# prediction_neutral = prediction_neutral.astype(int)\n",
        "\n",
        "# # Calculate F1 scores for positive, negative, and neutral\n",
        "# f1_score_positive = f1_score(yvalid, prediction_positive)\n",
        "# f1_score_negative = f1_score(yvalid, prediction_negative)\n",
        "# f1_score_neutral = f1_score(yvalid, prediction_neutral)\n",
        "\n",
        "# print(f\"F1 Score (Positive): {f1_score_positive}\")\n",
        "# print(f\"F1 Score (Negative): {f1_score_negative}\")\n",
        "# print(f\"F1 Score (Neutral): {f1_score_neutral}\")\n"
      ],
      "metadata": {
        "id": "LrNMifw_3YH7"
      },
      "execution_count": 73,
      "outputs": []
    },
    {
      "cell_type": "code",
      "execution_count": 93,
      "metadata": {
        "colab": {
          "base_uri": "https://localhost:8080/"
        },
        "id": "P545dQIM0OrU",
        "outputId": "48c8ebc7-5461-4783-9fc8-a41a3e98c5ff"
      },
      "outputs": [
        {
          "output_type": "execute_result",
          "data": {
            "text/plain": [
              "0.5303408146300915"
            ]
          },
          "metadata": {},
          "execution_count": 93
        }
      ],
      "source": [
        "#Use a logistic regression model on the Bag-of-words.\n",
        "from sklearn.linear_model import LogisticRegression\n",
        "from sklearn.model_selection import train_test_split\n",
        "from sklearn.metrics import f1_score\n",
        "import numpy as np\n",
        "import joblib\n",
        "train_bow = bow[:31962,:]\n",
        "test_biw = bow[31962:,:]\n",
        "xtrain_bow, xvalid_bow, ytrain, yvalid = train_test_split(train_bow, train['label'], random_state=42, test_size=0.3)\n",
        "lreg = LogisticRegression()\n",
        "lreg.fit(xtrain_bow, ytrain) # training the model\n",
        "joblib.dump(lreg, 'trained_model.pkl')\n",
        "prediction = lreg.predict_proba(xvalid_bow) # predicting on the validation set\n",
        "prediction_int = prediction[:,1] >= 0.3 # if prediction is greater than or equal to 0.3 than 1 else 0\n",
        "prediction_int = prediction_int.astype(int)\n",
        "f1_score(yvalid, prediction_int) # calculating f1 score"
      ]
    },
    {
      "cell_type": "code",
      "execution_count": 90,
      "metadata": {
        "colab": {
          "base_uri": "https://localhost:8080/"
        },
        "id": "6PNC0F2q0OrU",
        "outputId": "8a3a0bb8-c61d-4d32-d20f-336f9cdfaaec"
      },
      "outputs": [
        {
          "output_type": "execute_result",
          "data": {
            "text/plain": [
              "array([[False, False],\n",
              "       [False, False],\n",
              "       [False, False],\n",
              "       ...,\n",
              "       [False, False],\n",
              "       [False, False],\n",
              "       [False, False]])"
            ]
          },
          "metadata": {},
          "execution_count": 90
        }
      ],
      "source": [
        "prediction > 1"
      ]
    },
    {
      "cell_type": "code",
      "source": [
        "# bow_vectorizer = joblib.load('count_vectorizer.pkl')\n",
        "# model = joblib.load('trained_model.pkl')\n",
        "\n",
        "# # Create a function to preprocess and predict sentiment\n",
        "# def preprocess_text(text):\n",
        "#     text = re.sub(r'[^a-zA-Z]', ' ', text)\n",
        "#     text = ' '.join(text.split())\n",
        "#     return text.lower()\n",
        "\n",
        "# def predict_sentiment(input_text):\n",
        "#     # Preprocess the user input\n",
        "#     preprocessed_input = preprocess_text(input_text)\n",
        "\n",
        "#     # Use the loaded CountVectorizer to transform the input text\n",
        "#     preprocessed_input_bow = bow_vectorizer.transform([preprocessed_input])\n",
        "\n",
        "#     # Use the loaded model to predict sentiment\n",
        "#     prediction = model.predict(preprocessed_input_bow)\n",
        "\n",
        "#     # Adjust the threshold to classify as neutral\n",
        "#     threshold_positive = 0.4  # Adjust this threshold as needed\n",
        "#     threshold_negative = 0.4  # Adjust this threshold as needed\n",
        "\n",
        "#     if prediction >= threshold_positive:\n",
        "#         return \"Positive Sentiment\"\n",
        "#     elif prediction <= threshold_negative:\n",
        "#         return \"Negative Sentiment\"\n",
        "#     else:\n",
        "#         return \"Neutral Sentiment\"\n",
        "\n",
        "# # Get user input\n",
        "# user_input = input(\"Enter a sentence: \")\n",
        "\n",
        "# # Predict the sentiment\n",
        "# sentiment = predict_sentiment(user_input)\n",
        "# print(f\"Predicted Sentiment: {sentiment}\")\n"
      ],
      "metadata": {
        "id": "5b-G5qtH3maW"
      },
      "execution_count": 87,
      "outputs": []
    },
    {
      "cell_type": "code",
      "source": [],
      "metadata": {
        "colab": {
          "base_uri": "https://localhost:8080/"
        },
        "id": "g4ZdNm791uZe",
        "outputId": "0e037963-5671-4c60-8350-8a30522eb836"
      },
      "execution_count": 82,
      "outputs": [
        {
          "output_type": "stream",
          "name": "stdout",
          "text": [
            "Enter a sentence: i love you\n",
            "Predicted Sentiment: Non-Racist/Non-Sexist Sentiment\n"
          ]
        }
      ]
    },
    {
      "cell_type": "code",
      "execution_count": 102,
      "metadata": {
        "colab": {
          "base_uri": "https://localhost:8080/"
        },
        "id": "mifAJuZM0OrU",
        "outputId": "c2bf980d-4d79-4b7e-bb0c-49721c4e49bc"
      },
      "outputs": [
        {
          "output_type": "stream",
          "name": "stdout",
          "text": [
            "Enter a sentence: IF YOU'RE NOT WHITE YOU'RE NOT WELCOME!\n",
            "Predicted Sentiment: Racist/Sexist Sentiment\n"
          ]
        }
      ],
      "source": [
        "# import joblib\n",
        "# import re\n",
        "# from sklearn.feature_extraction.text import CountVectorizer\n",
        "# from sklearn.linear_model import LogisticRegression\n",
        "\n",
        "# # Load the trained model\n",
        "# model = joblib.load('trained_model.pkl')\n",
        "\n",
        "# # Load the fitted CountVectorizer\n",
        "# bow_vectorizer = joblib.load('countt_vectorizer.pkl')\n",
        "\n",
        "# # Create a function to preprocess and predict sentiment\n",
        "# def preprocess_text(text):\n",
        "#     text = re.sub(r'[^a-zA-Z]', ' ', text)\n",
        "#     text = ' '.join(text.split())\n",
        "#     return text.lower()\n",
        "\n",
        "# def predict_sentiment(input_text):\n",
        "#     # Preprocess the user input\n",
        "#     preprocessed_input = preprocess_text(input_text)\n",
        "\n",
        "#     # Use the loaded CountVectorizer to transform the input text\n",
        "#     preprocessed_input_bow = bow_vectorizer.transform([preprocessed_input])\n",
        "\n",
        "#     # Use the loaded model to predict sentiment\n",
        "#     prediction = model.predict(preprocessed_input_bow)\n",
        "\n",
        "#     return \"Racist/Sexist Sentiment\" if prediction == 1 else \"Non-Racist/Non-Sexist Sentiment\"\n",
        "\n",
        "# # Get user input\n",
        "# user_input = input(\"Enter a sentence: \")\n",
        "\n",
        "# # Predict the sentiment\n",
        "# sentiment = predict_sentiment(user_input)\n",
        "# print(f\"Predicted Sentiment: {sentiment}\")\n"
      ]
    },
    {
      "cell_type": "markdown",
      "metadata": {
        "id": "VG3g66Rq0OrV"
      },
      "source": []
    },
    {
      "cell_type": "code",
      "source": [
        "import tkinter as tk\n",
        "from tkinter import messagebox\n",
        "import joblib\n",
        "import matplotlib\n",
        "matplotlib.use('Agg')\n",
        "\n",
        "# Load the CountVectorizer and trained model\n",
        "bow_vectorizer = joblib.load('count_vectorizer.pkl')\n",
        "model = joblib.load('trained_model.pkl')\n",
        "\n",
        "# Create a function to preprocess and predict sentiment\n",
        "def preprocess_text(text):\n",
        "    text = re.sub(r'[^a-zA-Z]', ' ', text)\n",
        "    text = ' '.join(text.split())\n",
        "    return text.lower()\n",
        "\n",
        "def predict_sentiment(input_text):\n",
        "    preprocessed_input = preprocess_text(input_text)\n",
        "    preprocessed_input_bow = bow_vectorizer.transform([preprocessed_input])\n",
        "    prediction = model.predict(preprocessed_input_bow)\n",
        "\n",
        "    threshold_positive = 0.4  # Adjust as needed\n",
        "    threshold_negative = 0.4  # Adjust as needed\n",
        "\n",
        "    if prediction >= threshold_positive:\n",
        "        return \"Positive Sentiment\"\n",
        "    elif prediction <= threshold_negative:\n",
        "        return \"Negative Sentiment\"\n",
        "    else:\n",
        "        return \"Neutral Sentiment\"\n",
        "\n",
        "# Create a function to handle the button click event\n",
        "def analyze_sentiment():\n",
        "    user_input = text_entry.get(\"1.0\", \"end-1c\")  # Get the user's input from the text box\n",
        "    sentiment = predict_sentiment(user_input)\n",
        "    result_label.config(text=f\"Predicted Sentiment: {sentiment}\")\n",
        "\n",
        "# Create the GUI window\n",
        "root = tk.Tk()\n",
        "root.title(\"Sentiment Analysis\")\n",
        "\n",
        "# Create a text entry field\n",
        "text_entry = tk.Text(root, height=10, width=40)\n",
        "text_entry.pack()\n",
        "\n",
        "# Create an analyze button\n",
        "analyze_button = tk.Button(root, text=\"Analyze Sentiment\", command=analyze_sentiment)\n",
        "analyze_button.pack()\n",
        "\n",
        "# Create a label to display the result\n",
        "result_label = tk.Label(root, text=\"\")\n",
        "result_label.pack()\n",
        "\n",
        "# Start the GUI application\n",
        "root.mainloop()\n"
      ],
      "metadata": {
        "colab": {
          "base_uri": "https://localhost:8080/",
          "height": 366
        },
        "id": "bF7so9rs66Ym",
        "outputId": "f491139b-1d72-4990-86d6-7c7a678dbb6b"
      },
      "execution_count": 104,
      "outputs": [
        {
          "output_type": "error",
          "ename": "TclError",
          "evalue": "ignored",
          "traceback": [
            "\u001b[0;31m---------------------------------------------------------------------------\u001b[0m",
            "\u001b[0;31mTclError\u001b[0m                                  Traceback (most recent call last)",
            "\u001b[0;32m<ipython-input-104-19b2522180a8>\u001b[0m in \u001b[0;36m<cell line: 39>\u001b[0;34m()\u001b[0m\n\u001b[1;32m     37\u001b[0m \u001b[0;34m\u001b[0m\u001b[0m\n\u001b[1;32m     38\u001b[0m \u001b[0;31m# Create the GUI window\u001b[0m\u001b[0;34m\u001b[0m\u001b[0;34m\u001b[0m\u001b[0m\n\u001b[0;32m---> 39\u001b[0;31m \u001b[0mroot\u001b[0m \u001b[0;34m=\u001b[0m \u001b[0mtk\u001b[0m\u001b[0;34m.\u001b[0m\u001b[0mTk\u001b[0m\u001b[0;34m(\u001b[0m\u001b[0;34m)\u001b[0m\u001b[0;34m\u001b[0m\u001b[0;34m\u001b[0m\u001b[0m\n\u001b[0m\u001b[1;32m     40\u001b[0m \u001b[0mroot\u001b[0m\u001b[0;34m.\u001b[0m\u001b[0mtitle\u001b[0m\u001b[0;34m(\u001b[0m\u001b[0;34m\"Sentiment Analysis\"\u001b[0m\u001b[0;34m)\u001b[0m\u001b[0;34m\u001b[0m\u001b[0;34m\u001b[0m\u001b[0m\n\u001b[1;32m     41\u001b[0m \u001b[0;34m\u001b[0m\u001b[0m\n",
            "\u001b[0;32m/usr/lib/python3.10/tkinter/__init__.py\u001b[0m in \u001b[0;36m__init__\u001b[0;34m(self, screenName, baseName, className, useTk, sync, use)\u001b[0m\n\u001b[1;32m   2297\u001b[0m                 \u001b[0mbaseName\u001b[0m \u001b[0;34m=\u001b[0m \u001b[0mbaseName\u001b[0m \u001b[0;34m+\u001b[0m \u001b[0mext\u001b[0m\u001b[0;34m\u001b[0m\u001b[0;34m\u001b[0m\u001b[0m\n\u001b[1;32m   2298\u001b[0m         \u001b[0minteractive\u001b[0m \u001b[0;34m=\u001b[0m \u001b[0;32mFalse\u001b[0m\u001b[0;34m\u001b[0m\u001b[0;34m\u001b[0m\u001b[0m\n\u001b[0;32m-> 2299\u001b[0;31m         \u001b[0mself\u001b[0m\u001b[0;34m.\u001b[0m\u001b[0mtk\u001b[0m \u001b[0;34m=\u001b[0m \u001b[0m_tkinter\u001b[0m\u001b[0;34m.\u001b[0m\u001b[0mcreate\u001b[0m\u001b[0;34m(\u001b[0m\u001b[0mscreenName\u001b[0m\u001b[0;34m,\u001b[0m \u001b[0mbaseName\u001b[0m\u001b[0;34m,\u001b[0m \u001b[0mclassName\u001b[0m\u001b[0;34m,\u001b[0m \u001b[0minteractive\u001b[0m\u001b[0;34m,\u001b[0m \u001b[0mwantobjects\u001b[0m\u001b[0;34m,\u001b[0m \u001b[0museTk\u001b[0m\u001b[0;34m,\u001b[0m \u001b[0msync\u001b[0m\u001b[0;34m,\u001b[0m \u001b[0muse\u001b[0m\u001b[0;34m)\u001b[0m\u001b[0;34m\u001b[0m\u001b[0;34m\u001b[0m\u001b[0m\n\u001b[0m\u001b[1;32m   2300\u001b[0m         \u001b[0;32mif\u001b[0m \u001b[0museTk\u001b[0m\u001b[0;34m:\u001b[0m\u001b[0;34m\u001b[0m\u001b[0;34m\u001b[0m\u001b[0m\n\u001b[1;32m   2301\u001b[0m             \u001b[0mself\u001b[0m\u001b[0;34m.\u001b[0m\u001b[0m_loadtk\u001b[0m\u001b[0;34m(\u001b[0m\u001b[0;34m)\u001b[0m\u001b[0;34m\u001b[0m\u001b[0;34m\u001b[0m\u001b[0m\n",
            "\u001b[0;31mTclError\u001b[0m: no display name and no $DISPLAY environment variable"
          ]
        }
      ]
    }
  ],
  "metadata": {
    "kernelspec": {
      "display_name": "Python 3",
      "language": "python",
      "name": "python3"
    },
    "language_info": {
      "codemirror_mode": {
        "name": "ipython",
        "version": 3
      },
      "file_extension": ".py",
      "mimetype": "text/x-python",
      "name": "python",
      "nbconvert_exporter": "python",
      "pygments_lexer": "ipython3",
      "version": "3.10.2"
    },
    "colab": {
      "provenance": []
    }
  },
  "nbformat": 4,
  "nbformat_minor": 0
}